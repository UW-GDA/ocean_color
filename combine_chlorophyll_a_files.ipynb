{
 "cells": [
  {
   "cell_type": "code",
   "execution_count": null,
   "id": "ba89bdaf-9e44-4091-8876-395223b962e8",
   "metadata": {},
   "outputs": [],
   "source": [
    "import os\n",
    "from glob import glob\n",
    "import numpy as np\n",
    "import xarray as xr\n",
    "import pandas as pd\n",
    "import geopandas as gpd\n",
    "import cartopy.crs as ccrs\n",
    "import matplotlib.pyplot as plt\n",
    "import holoviews as hv"
   ]
  },
  {
   "cell_type": "code",
   "execution_count": null,
   "id": "b71f46fd-600f-4300-840f-84888b5f02d4",
   "metadata": {},
   "outputs": [],
   "source": [
    "base_1 = 'ESACCI-OC-L3S-CHLOR_A-MERGED-1D_DAILY_4km_GEO_PML_OCx-2020'\n",
    "fn_list = ['02','03','04','05','06','07','08','09','10','11','12']\n",
    "base_2 = '01-fv5.0.1.nc'\n",
    "url_list = [base_1+fn+base_2 for fn in fn_list]"
   ]
  },
  {
   "cell_type": "code",
   "execution_count": null,
   "id": "6581d212-4030-4d72-b0d5-c0563e7ee8b3",
   "metadata": {},
   "outputs": [],
   "source": [
    "chlor = 'ESACCI-OC-L3S-CHLOR_A-MERGED-1D_DAILY_4km_GEO_PML_OCx-20200101-fv5.0.1.nc'\n",
    "chlor_array = xr.open_dataset(chlor, chunks='auto')"
   ]
  },
  {
   "cell_type": "code",
   "execution_count": null,
   "id": "89ad8b2c-d9f2-4eca-a626-20760ce23264",
   "metadata": {},
   "outputs": [],
   "source": [
    "for i in url_list:\n",
    "    x = 'chlor_' + i\n",
    "    x = xr.open_dataset(i, chunks='auto')\n",
    "    chlor_array = xr.concat([chlor_array, x], dim=\"time\")"
   ]
  },
  {
   "cell_type": "code",
   "execution_count": null,
   "id": "3da99b8e-df4a-4dba-a13a-c7a81c9a7961",
   "metadata": {},
   "outputs": [],
   "source": [
    "chlor_array['chlor_a'].to_netcdf('/home/jovyan/labs/ocean_color/chlor.nc')"
   ]
  }
 ],
 "metadata": {
  "kernelspec": {
   "display_name": "Python 3 (ipykernel)",
   "language": "python",
   "name": "python3"
  },
  "language_info": {
   "codemirror_mode": {
    "name": "ipython",
    "version": 3
   },
   "file_extension": ".py",
   "mimetype": "text/x-python",
   "name": "python",
   "nbconvert_exporter": "python",
   "pygments_lexer": "ipython3",
   "version": "3.9.7"
  }
 },
 "nbformat": 4,
 "nbformat_minor": 5
}
